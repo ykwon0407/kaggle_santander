{
 "cells": [
  {
   "cell_type": "code",
   "execution_count": 5,
   "metadata": {
    "collapsed": true
   },
   "outputs": [
    {
     "name": "stdout",
     "output_type": "stream",
     "text": [
      "FEATURE ENGINEERING START\n",
      "TRAINING START"
     ]
    },
    {
     "name": "stderr",
     "output_type": "stream",
     "text": [
      "Will train until cv error hasn't decreased in 75 rounds.\n",
      "Stopping. Best iteration:\n",
      "[458] cv-mean:0.8412208\tcv-std:0.00742830133745\n"
     ]
    },
    {
     "name": "stdout",
     "output_type": "stream",
     "text": [
      "\n",
      "dimension of training/test set :(76020, 309)/(75818, 309)\n",
      "training a XGBoost classifier\n",
      "\n",
      "Cross Validation: [  8.41220800e-01   7.42830134e-03   8.85877300e-01   5.75710526e-04]\n",
      "AUC score: 0.883379779599\n",
      "Completed!\n",
      "[{'subsample': 0.7, 'nthread': 24, 'eta': 0.018, 'colsample_bytree': 0.7, 'silent': 0, 'eval_metric': 'auc', 'objective': 'binary:logistic', 'alpha': 0.25, 'max_depth': 5, 'lambda': 0.25}]\n"
     ]
    }
   ],
   "source": [
    "%run san_xgboost_single.py"
   ]
  },
  {
   "cell_type": "code",
   "execution_count": 11,
   "metadata": {
    "collapsed": true
   },
   "outputs": [
    {
     "name": "stdout",
     "output_type": "stream",
     "text": [
      "FEATURE ENGINEERING START\n",
      "TRAINING START"
     ]
    },
    {
     "name": "stderr",
     "output_type": "stream",
     "text": [
      "Will train until cv error hasn't decreased in 75 rounds.\n",
      "Stopping. Best iteration:\n",
      "[458] cv-mean:0.8412208\tcv-std:0.00742830133745\n"
     ]
    },
    {
     "name": "stdout",
     "output_type": "stream",
     "text": [
      "\n",
      "dimension of training/test set :(76020, 309)/(75818, 309)\n",
      "training a XGBoost classifier\n",
      "\n",
      "Cross Validation: [  8.41220800e-01   7.42830134e-03   8.85877300e-01   5.75710526e-04]\n",
      "AUC score: 0.883379779599"
     ]
    },
    {
     "name": "stderr",
     "output_type": "stream",
     "text": [
      "Will train until cv error hasn't decreased in 75 rounds.\n",
      "Stopping. Best iteration:\n",
      "[649] cv-mean:0.8408332\tcv-std:0.00731692983156\n"
     ]
    },
    {
     "name": "stdout",
     "output_type": "stream",
     "text": [
      "\n",
      "Cross Validation: [  8.40833200e-01   7.31692983e-03   8.78608900e-01   2.76475478e-04]\n",
      "AUC score: 0.876139333351"
     ]
    },
    {
     "name": "stderr",
     "output_type": "stream",
     "text": [
      "Will train until cv error hasn't decreased in 75 rounds.\n",
      "Stopping. Best iteration:\n",
      "[792] cv-mean:0.8401732\tcv-std:0.0078489939075\n"
     ]
    },
    {
     "name": "stdout",
     "output_type": "stream",
     "text": [
      "\n",
      "Cross Validation: [  8.40173200e-01   7.84899391e-03   8.66491700e-01   5.10059026e-04]\n",
      "AUC score: 0.864482695154\n",
      "Completed!\n",
      "[{'subsample': 0.7, 'nthread': 24, 'eta': 0.018, 'colsample_bytree': 0.7, 'silent': 0, 'eval_metric': 'auc', 'objective': 'binary:logistic', 'alpha': 0.25, 'max_depth': 5, 'lambda': 0.25}, {'subsample': 0.7, 'nthread': 24, 'eta': 0.018, 'colsample_bytree': 0.7, 'silent': 0, 'eval_metric': 'auc', 'objective': 'binary:logistic', 'alpha': 0.25, 'max_depth': 4, 'lambda': 0.25}, {'subsample': 0.7, 'nthread': 24, 'eta': 0.018, 'colsample_bytree': 0.7, 'silent': 0, 'eval_metric': 'auc', 'objective': 'binary:logistic', 'alpha': 0.25, 'max_depth': 3, 'lambda': 0.25}]\n"
     ]
    }
   ],
   "source": [
    "%run san_xgboost_single.py"
   ]
  },
  {
   "cell_type": "code",
   "execution_count": 12,
   "metadata": {
    "collapsed": true
   },
   "outputs": [
    {
     "name": "stdout",
     "output_type": "stream",
     "text": [
      "FEATURE ENGINEERING START\n",
      "TRAINING START\n",
      "dimension of training/test set :(76020, 309)/(75818, 309)\n",
      "training a XGBoost classifier\n",
      "\n",
      "AUC score: 0.502190163873\n",
      "Completed!\n"
     ]
    }
   ],
   "source": [
    "%run logistic.py"
   ]
  },
  {
   "cell_type": "code",
   "execution_count": 21,
   "metadata": {
    "collapsed": true
   },
   "outputs": [
    {
     "name": "stdout",
     "output_type": "stream",
     "text": [
      "FEATURE ENGINEERING START\n",
      "TRAINING START"
     ]
    },
    {
     "name": "stderr",
     "output_type": "stream",
     "text": [
      "Will train until cv error hasn't decreased in 75 rounds.\n",
      "Stopping. Best iteration:\n",
      "[759] cv-mean:0.8414947\tcv-std:0.0074106416598\n"
     ]
    },
    {
     "name": "stdout",
     "output_type": "stream",
     "text": [
      "\n",
      "dimension of training/test set :(76020, 307)/(75818, 307)\n",
      "training a XGBoost classifier\n",
      "\n",
      "Cross Validation: [  8.41494700e-01   7.41064166e-03   8.81468500e-01   5.55531682e-04]\n",
      "AUC score: 0.878748889628\n",
      "Completed!\n",
      "[{'subsample': 0.6815, 'eta': 0.0102048, 'colsample_bytree': 0.701, 'silent': 1, 'eval_metric': 'auc', 'objective': 'binary:logistic', 'max_depth': 5, 'nthread': 24}]\n"
     ]
    }
   ],
   "source": [
    "%run san_xgboost_single.py"
   ]
  },
  {
   "cell_type": "code",
   "execution_count": 27,
   "metadata": {
    "collapsed": true
   },
   "outputs": [
    {
     "name": "stdout",
     "output_type": "stream",
     "text": [
      "Started!\n",
      "Change num_rounds\n",
      "('Fold:', 0)\n",
      "('Blind Log Loss:', 0.13481387849961915)\n",
      "('Blind ROC:', 0.83722499911279025)\n",
      "('Fold:', 1)\n",
      "('Blind Log Loss:', 0.13404089076570125)\n",
      "('Blind ROC:', 0.83863338765786644)\n",
      "('Fold:', 2)\n",
      "('Blind Log Loss:', 0.14190871299651381)\n",
      "('Blind ROC:', 0.81257789744362141)\n",
      "('Fold:', 3)\n",
      "('Blind Log Loss:', 0.13303074460132444)\n",
      "('Blind ROC:', 0.84098569303526893)\n",
      "('Fold:', 4)\n",
      "('Blind Log Loss:', 0.13253341182613448)\n",
      "('Blind ROC:', 0.845351590211326)\n",
      "('Fold:', 5)\n",
      "('Blind Log Loss:', 0.13409076352364593)\n",
      "('Blind ROC:', 0.84102505413858109)\n",
      "('Fold:', 6)\n",
      "('Blind Log Loss:', 0.13185090379342249)\n",
      "('Blind ROC:', 0.85051858822415893)\n",
      "('Fold:', 7)\n",
      "('Blind Log Loss:', 0.12793850749015298)\n",
      "('Blind ROC:', 0.8606949123157478)\n",
      "('Fold:', 8)\n",
      "('Blind Log Loss:', 0.13059595053091791)\n",
      "('Blind ROC:', 0.85090695338538103)\n",
      "('Fold:', 9)\n",
      "('Blind Log Loss:', 0.13732078913777221)\n",
      "('Blind ROC:', 0.82659521526731505)\n",
      "('Average Log Loss:', 0.12117859160983202)\n",
      "('Average ROC:', 0.88741847194165691)\n",
      "Finish\n"
     ]
    }
   ],
   "source": [
    "%run xgb_kaggle_best.py #kaggle without change script -> 0.8404"
   ]
  },
  {
   "cell_type": "code",
   "execution_count": 28,
   "metadata": {
    "collapsed": true
   },
   "outputs": [
    {
     "name": "stdout",
     "output_type": "stream",
     "text": [
      "Started!\n",
      "Change num_rounds\n",
      "('Fold:', 0)\n",
      "('Blind Log Loss:', 0.13212140843350961)\n",
      "('Blind ROC:', 0.85184590631977819)\n",
      "('Fold:', 1)\n",
      "('Blind Log Loss:', 0.13158264689274604)\n",
      "('Blind ROC:', 0.85464927507840549)\n",
      "('Fold:', 2)\n",
      "('Blind Log Loss:', 0.13405150930590851)\n",
      "('Blind ROC:', 0.83982978445531575)\n",
      "('Fold:', 3)\n",
      "('Blind Log Loss:', 0.13646870069338649)\n",
      "('Blind ROC:', 0.83230213621959703)\n",
      "('Fold:', 4)\n",
      "('Blind Log Loss:', 0.13913729702754984)\n",
      "('Blind ROC:', 0.82863626222335895)\n",
      "('Fold:', 5)\n",
      "('Blind Log Loss:', 0.1330526326746258)\n",
      "('Blind ROC:', 0.84814647533742904)\n",
      "('Fold:', 6)\n",
      "('Blind Log Loss:', 0.13632626675081214)\n",
      "('Blind ROC:', 0.8285909149448305)\n",
      "('Fold:', 7)\n",
      "('Blind Log Loss:', 0.1318524110549136)\n",
      "('Blind ROC:', 0.8478290443877301)\n",
      "('Fold:', 8)\n",
      "('Blind Log Loss:', 0.13550567694787025)\n",
      "('Blind ROC:', 0.83853647402538112)\n",
      "('Fold:', 9)\n",
      "('Blind Log Loss:', 0.12658007123300641)\n",
      "('Blind ROC:', 0.8637743084086551)\n",
      "('Fold:', 10)\n",
      "('Blind Log Loss:', 0.13089919454138554)\n",
      "('Blind ROC:', 0.84867068383091393)\n",
      "('Fold:', 11)\n",
      "('Blind Log Loss:', 0.12739799708060351)\n",
      "('Blind ROC:', 0.86631242581941015)\n",
      "('Fold:', 12)\n",
      "('Blind Log Loss:', 0.13301381049346864)\n",
      "('Blind ROC:', 0.83537442922374439)\n",
      "('Fold:', 13)\n",
      "('Blind Log Loss:', 0.13543727481186291)\n",
      "('Blind ROC:', 0.82502557077625571)\n",
      "('Fold:', 14)\n",
      "('Blind Log Loss:', 0.13445957755395763)\n",
      "('Blind ROC:', 0.84289406392694066)\n",
      "('Fold:', 15)\n",
      "('Blind Log Loss:', 0.13390228979618865)\n",
      "('Blind ROC:', 0.8366438356164384)\n",
      "('Fold:', 16)\n",
      "('Blind Log Loss:', 0.13234867367372652)\n",
      "('Blind ROC:', 0.8469872146118721)\n",
      "('Fold:', 17)\n",
      "('Blind Log Loss:', 0.13020549583216626)\n",
      "('Blind ROC:', 0.85712328767123291)\n",
      "('Fold:', 18)\n",
      "('Blind Log Loss:', 0.14086378802471844)\n",
      "('Blind ROC:', 0.81369589041095891)\n",
      "('Fold:', 19)\n",
      "('Blind Log Loss:', 0.13637046449350523)\n",
      "('Blind ROC:', 0.82980091324200911)\n",
      "('Average Log Loss:', 0.12484155559235578)\n",
      "('Average ROC:', 0.88938317375109421)\n",
      "Finish\n"
     ]
    }
   ],
   "source": [
    "%run xgb_kaggle_best.py "
   ]
  },
  {
   "cell_type": "code",
   "execution_count": 29,
   "metadata": {
    "collapsed": true
   },
   "outputs": [
    {
     "name": "stdout",
     "output_type": "stream",
     "text": [
      "0.841833444827\n",
      "{'subsample': 0.6815, 'eta': 0.0202048, 'colsample_bytree': 0.701, 'silent': 1, 'eval_metric': 'auc', 'objective': 'binary:logistic', 'max_depth': 5, 'nthread': 24}\n"
     ]
    }
   ],
   "source": [
    "print np.mean(np.array(auc_list))\n",
    "print params"
   ]
  },
  {
   "cell_type": "code",
   "execution_count": null,
   "metadata": {
    "collapsed": true
   },
   "outputs": [],
   "source": []
  },
  {
   "cell_type": "code",
   "execution_count": 1,
   "metadata": {
    "collapsed": true
   },
   "outputs": [
    {
     "name": "stdout",
     "output_type": "stream",
     "text": [
      "Started!\n",
      "Change num_rounds\n",
      "('Fold:', 0)\n",
      "('Blind Log Loss:', 0.13225157233589005)\n",
      "('Blind ROC:', 0.84767814943523423)\n",
      "('Fold:', 1)\n",
      "('Blind Log Loss:', 0.13100510475789034)\n",
      "('Blind ROC:', 0.85155366344814276)\n",
      "('Fold:', 2)\n",
      "('Blind Log Loss:', 0.13395911139878236)\n",
      "('Blind ROC:', 0.84049720581670639)\n",
      "('Fold:', 3)\n",
      "('Blind Log Loss:', 0.13344225949768951)\n",
      "('Blind ROC:', 0.8417642693100339)\n",
      "('Fold:', 4)\n",
      "('Blind Log Loss:', 0.13348981787849565)\n",
      "('Blind ROC:', 0.84320902657033736)\n",
      "('Fold:', 5)\n",
      "('Blind Log Loss:', 0.13441566487105991)\n",
      "('Blind ROC:', 0.8388720245394865)\n",
      "('Fold:', 6)\n",
      "('Blind Log Loss:', 0.13558913155335775)\n",
      "('Blind ROC:', 0.83568468525451167)\n",
      "('Fold:', 7)\n",
      "('Blind Log Loss:', 0.13496744750935638)\n",
      "('Blind ROC:', 0.83616361659828153)\n",
      "('Fold:', 8)\n",
      "('Blind Log Loss:', 0.13368656693903619)\n",
      "('Blind ROC:', 0.83658425786421953)\n",
      "('Fold:', 9)\n",
      "('Blind Log Loss:', 0.13391027589846077)\n",
      "('Blind ROC:', 0.84107998904259695)\n",
      "0.841308688788\n",
      "Change num_rounds\n",
      "('Fold:', 0)\n",
      "('Blind Log Loss:', 0.13786920147882309)\n",
      "('Blind ROC:', 0.82249709040712471)\n",
      "('Fold:', 1)\n",
      "('Blind Log Loss:', 0.13018054550809724)\n",
      "('Blind ROC:', 0.85480426333840187)\n",
      "('Fold:', 2)\n",
      "('Blind Log Loss:', 0.13532365511917577)\n",
      "('Blind ROC:', 0.83817581080460013)\n",
      "('Fold:', 3)\n",
      "('Blind Log Loss:', 0.13726364028755189)\n",
      "('Blind ROC:', 0.82011702761329286)\n",
      "('Fold:', 4)\n",
      "('Blind Log Loss:', 0.13009553958566111)\n",
      "('Blind ROC:', 0.85968904273341706)\n",
      "('Fold:', 5)\n",
      "('Blind Log Loss:', 0.12887887386090446)\n",
      "('Blind ROC:', 0.85841356096943888)\n",
      "('Fold:', 6)\n",
      "('Blind Log Loss:', 0.13176644612843816)\n",
      "('Blind ROC:', 0.84685140751210064)\n",
      "('Fold:', 7)\n",
      "('Blind Log Loss:', 0.13858042371513088)\n",
      "('Blind ROC:', 0.82475663234590813)\n",
      "('Fold:', 8)\n",
      "('Blind Log Loss:', 0.13139948014889252)\n",
      "('Blind ROC:', 0.85280372551705241)\n",
      "('Fold:', 9)\n",
      "('Blind Log Loss:', 0.13530053246057727)\n",
      "('Blind ROC:', 0.83451673286764372)\n",
      "0.841262529411\n",
      "Change num_rounds\n",
      "('Fold:', 0)\n",
      "('Blind Log Loss:', 0.1391247372880477)\n",
      "('Blind ROC:', 0.82233898508668712)\n",
      "('Fold:', 1)\n",
      "('Blind Log Loss:', 0.13506272039696982)\n",
      "('Blind ROC:', 0.83625930546493887)\n",
      "('Fold:', 2)\n",
      "('Blind Log Loss:', 0.13399645966443757)\n",
      "('Blind ROC:', 0.84329798721423954)\n",
      "('Fold:', 3)\n",
      "('Blind Log Loss:', 0.13267900098495264)\n",
      "('Blind ROC:', 0.84355008029210021)\n",
      "('Fold:', 4)\n",
      "('Blind Log Loss:', 0.13343470270274374)\n",
      "('Blind ROC:', 0.83755490646391217)\n",
      "('Fold:', 5)\n",
      "('Blind Log Loss:', 0.13059465298747044)\n",
      "('Blind ROC:', 0.85269619007272024)\n",
      "('Fold:', 6)\n",
      "('Blind Log Loss:', 0.12857750319906466)\n",
      "('Blind ROC:', 0.86805862392672739)\n",
      "('Fold:', 7)\n",
      "('Blind Log Loss:', 0.13401216466077179)\n",
      "('Blind ROC:', 0.83794646980957865)\n",
      "('Fold:', 8)\n",
      "('Blind Log Loss:', 0.13199045666564663)\n",
      "('Blind ROC:', 0.84328219878555455)\n",
      "('Fold:', 9)\n",
      "('Blind Log Loss:', 0.13701266325574982)\n",
      "('Blind ROC:', 0.82749920102269092)\n",
      "0.841248394814\n",
      "Change num_rounds\n",
      "('Fold:', 0)\n",
      "('Blind Log Loss:', 0.13552240160953721)\n",
      "('Blind ROC:', 0.83529770663114178)\n",
      "('Fold:', 1)\n",
      "('Blind Log Loss:', 0.13158855430652946)\n",
      "('Blind ROC:', 0.84963137573922765)\n",
      "('Fold:', 2)\n",
      "('Blind Log Loss:', 0.13535779692375546)\n",
      "('Blind ROC:', 0.83440351546982372)\n",
      "('Fold:', 3)\n",
      "('Blind Log Loss:', 0.13592622232181995)\n",
      "('Blind ROC:', 0.8328663847531923)\n",
      "('Fold:', 4)\n",
      "('Blind Log Loss:', 0.13330766533184177)\n",
      "('Blind ROC:', 0.83972955054170439)\n",
      "('Fold:', 5)\n",
      "('Blind Log Loss:', 0.13484935751980218)\n",
      "('Blind ROC:', 0.83891889383013574)\n",
      "('Fold:', 6)\n",
      "('Blind Log Loss:', 0.13119110404043491)\n",
      "('Blind ROC:', 0.85506445437547585)\n",
      "('Fold:', 7)\n",
      "('Blind Log Loss:', 0.12877408109341884)\n",
      "('Blind ROC:', 0.85954456700738668)\n",
      "('Fold:', 8)\n",
      "('Blind Log Loss:', 0.13365043333445095)\n",
      "('Blind ROC:', 0.83920764278865922)\n",
      "('Fold:', 9)\n",
      "('Blind Log Loss:', 0.13505585440108903)\n",
      "('Blind ROC:', 0.83141715746701361)\n",
      "0.84160812486\n",
      "Change num_rounds\n",
      "('Fold:', 0)\n",
      "('Blind Log Loss:', 0.13348314740034234)\n",
      "('Blind ROC:', 0.84100496746442732)\n",
      "('Fold:', 1)\n",
      "('Blind Log Loss:', 0.13616998768749508)\n",
      "('Blind ROC:', 0.83599860230346934)\n",
      "('Fold:', 2)\n",
      "('Blind Log Loss:', 0.13284044728493075)\n",
      "('Blind ROC:', 0.84319583036229051)\n",
      "('Fold:', 3)\n",
      "('Blind Log Loss:', 0.13479444673391167)\n",
      "('Blind ROC:', 0.83594542412385142)\n",
      "('Fold:', 4)\n",
      "('Blind Log Loss:', 0.13551819659489139)\n",
      "('Blind ROC:', 0.83761155915018237)\n",
      "('Fold:', 5)\n",
      "('Blind Log Loss:', 0.12868778348585802)\n",
      "('Blind ROC:', 0.86332960350855315)\n",
      "('Fold:', 6)\n",
      "('Blind Log Loss:', 0.1372522582918439)\n",
      "('Blind ROC:', 0.82507174869323419)\n",
      "('Fold:', 7)\n",
      "('Blind Log Loss:', 0.13027348834126934)\n",
      "('Blind ROC:', 0.85277604988348665)\n",
      "('Fold:', 8)\n",
      "('Blind Log Loss:', 0.13257619245909644)\n",
      "('Blind ROC:', 0.84268867278455006)\n",
      "('Fold:', 9)\n",
      "('Blind Log Loss:', 0.13607522772931005)\n",
      "('Blind ROC:', 0.83169839747979735)\n",
      "0.840932085575\n",
      "('Average Log Loss:', 0.33322236219021506)\n",
      "('Average ROC:', 0.84909082955687276)\n",
      "Finish\n"
     ]
    }
   ],
   "source": [
    "%run xgb_kaggle_best.py "
   ]
  },
  {
   "cell_type": "code",
   "execution_count": 2,
   "metadata": {
    "collapsed": false
   },
   "outputs": [
    {
     "name": "stdout",
     "output_type": "stream",
     "text": [
      "0.840932085575\n",
      "{'subsample': 0.6815, 'eta': 0.0207048, 'colsample_bytree': 0.702, 'silent': 1, 'eval_metric': 'auc', 'objective': 'binary:logistic', 'max_depth': 5, 'nthread': 24}\n"
     ]
    }
   ],
   "source": [
    "print np.mean(np.array(auc_list))\n",
    "print params"
   ]
  },
  {
   "cell_type": "code",
   "execution_count": 13,
   "metadata": {
    "collapsed": true
   },
   "outputs": [
    {
     "name": "stdout",
     "output_type": "stream",
     "text": [
      "Started!\n",
      "Change num_rounds\n",
      "('Fold:', 0)\n",
      "('Blind Log Loss:', 0.13239803289897889)\n",
      "('Blind ROC:', 0.84795409440457303)\n",
      "('Fold:', 1)\n",
      "('Blind Log Loss:', 0.13080932401258713)\n",
      "('Blind ROC:', 0.85275549137313678)\n",
      "('Fold:', 2)\n",
      "('Blind Log Loss:', 0.13358277681536515)\n",
      "('Blind ROC:', 0.8422327346956977)\n",
      "('Fold:', 3)\n",
      "('Blind Log Loss:', 0.13323362579454245)\n",
      "('Blind ROC:', 0.84271098347698237)\n",
      "('Fold:', 4)\n",
      "('Blind Log Loss:', 0.13364798725141991)\n",
      "('Blind ROC:', 0.843308680693174)\n",
      "('Fold:', 5)\n",
      "('Blind Log Loss:', 0.13488792560984703)\n",
      "('Blind ROC:', 0.83693445716488113)\n",
      "('Fold:', 6)\n",
      "('Blind Log Loss:', 0.13578078072051714)\n",
      "('Blind ROC:', 0.8348783514386825)\n",
      "('Fold:', 7)\n",
      "('Blind Log Loss:', 0.13472825258134313)\n",
      "('Blind ROC:', 0.83761451692095146)\n",
      "('Fold:', 8)\n",
      "('Blind Log Loss:', 0.13314882514495899)\n",
      "('Blind ROC:', 0.83855750353832814)\n",
      "('Fold:', 9)\n",
      "('Blind Log Loss:', 0.13383009917132896)\n",
      "('Blind ROC:', 0.84082317490754699)\n",
      "0.841776998861\n",
      "Change num_rounds\n",
      "('Fold:', 0)\n",
      "('Blind Log Loss:', 0.13732611339708453)\n",
      "('Blind ROC:', 0.8238668057083528)\n",
      "('Fold:', 1)\n",
      "('Blind Log Loss:', 0.12968171355785235)\n",
      "('Blind ROC:', 0.85789061568714176)\n",
      "('Fold:', 2)\n",
      "('Blind Log Loss:', 0.13574842977111753)\n",
      "('Blind ROC:', 0.83654903688158133)\n",
      "('Fold:', 3)\n",
      "('Blind Log Loss:', 0.1368092504115801)\n",
      "('Blind ROC:', 0.82128784979620961)\n",
      "('Fold:', 4)\n",
      "('Blind Log Loss:', 0.1301370998436239)\n",
      "('Blind ROC:', 0.86065077327503947)\n",
      "('Fold:', 5)\n",
      "('Blind Log Loss:', 0.12914592128015356)\n",
      "('Blind ROC:', 0.85817193384968427)\n",
      "('Fold:', 6)\n",
      "('Blind Log Loss:', 0.13154451210952592)\n",
      "('Blind ROC:', 0.84780699499135648)\n",
      "('Fold:', 7)\n",
      "('Blind Log Loss:', 0.1389309030547754)\n",
      "('Blind ROC:', 0.82200704313476369)\n",
      "('Fold:', 8)\n",
      "('Blind Log Loss:', 0.13182087846811227)\n",
      "('Blind ROC:', 0.85243231520796248)\n",
      "('Fold:', 9)\n",
      "('Blind Log Loss:', 0.13519419931178125)\n",
      "('Blind ROC:', 0.83516664383874351)\n",
      "0.841583001237\n",
      "Change num_rounds\n",
      "('Fold:', 0)\n",
      "('Blind Log Loss:', 0.13882527974839715)\n",
      "('Blind ROC:', 0.8217859576996609)\n",
      "('Fold:', 1)\n",
      "('Blind Log Loss:', 0.13495620755062199)\n",
      "('Blind ROC:', 0.83857082799870053)\n",
      "('Fold:', 2)\n",
      "('Blind Log Loss:', 0.13369565091184502)\n",
      "('Blind ROC:', 0.84429361835929262)\n",
      "('Fold:', 3)\n",
      "('Blind Log Loss:', 0.13296490858910007)\n",
      "('Blind ROC:', 0.8412148065094619)\n",
      "('Fold:', 4)\n",
      "('Blind Log Loss:', 0.13311532067547652)\n",
      "('Blind ROC:', 0.8390387973066995)\n",
      "('Fold:', 5)\n",
      "('Blind Log Loss:', 0.13093052541736208)\n",
      "('Blind ROC:', 0.85226435554042801)\n",
      "('Fold:', 6)\n",
      "('Blind Log Loss:', 0.1291891721788925)\n",
      "('Blind ROC:', 0.86717993848746888)\n",
      "('Fold:', 7)\n",
      "('Blind Log Loss:', 0.13414239912891149)\n",
      "('Blind ROC:', 0.83716834857647027)\n",
      "('Fold:', 8)\n",
      "('Blind Log Loss:', 0.13154984450318719)\n",
      "('Blind ROC:', 0.8456697712642105)\n",
      "('Fold:', 9)\n",
      "('Blind Log Loss:', 0.13699322885872828)\n",
      "('Blind ROC:', 0.8263418253207323)\n",
      "0.841352824706\n",
      "Change num_rounds\n",
      "('Fold:', 0)\n",
      "('Blind Log Loss:', 0.13574512487948778)\n",
      "('Blind ROC:', 0.83468757933702231)\n",
      "('Fold:', 1)\n",
      "('Blind Log Loss:', 0.13162566299727424)\n",
      "('Blind ROC:', 0.85016665893201793)\n",
      "('Fold:', 2)\n",
      "('Blind Log Loss:', 0.13529002329011375)\n",
      "('Blind ROC:', 0.83388727071019719)\n",
      "('Fold:', 3)\n",
      "('Blind Log Loss:', 0.13608074537852044)\n",
      "('Blind ROC:', 0.83194242266908325)\n",
      "('Fold:', 4)\n",
      "('Blind Log Loss:', 0.13342206467134018)\n",
      "('Blind ROC:', 0.83903356432764631)\n",
      "('Fold:', 5)\n",
      "('Blind Log Loss:', 0.1352172628228786)\n",
      "('Blind ROC:', 0.83844178265299285)\n",
      "('Fold:', 6)\n",
      "('Blind Log Loss:', 0.13078449837363543)\n",
      "('Blind ROC:', 0.85831959486731213)\n",
      "('Fold:', 7)\n",
      "('Blind Log Loss:', 0.12865203289135382)\n",
      "('Blind ROC:', 0.86049037109102133)\n",
      "('Fold:', 8)\n",
      "('Blind Log Loss:', 0.13337708065404394)\n",
      "('Blind ROC:', 0.84105350865178274)\n",
      "('Fold:', 9)\n",
      "('Blind Log Loss:', 0.13474900620095551)\n",
      "('Blind ROC:', 0.83364059717846872)\n",
      "0.842166335042\n",
      "Change num_rounds\n",
      "('Fold:', 0)\n",
      "('Blind Log Loss:', 0.13359523871234935)\n",
      "('Blind ROC:', 0.83990619235980502)\n",
      "('Fold:', 1)\n",
      "('Blind Log Loss:', 0.13597320503006219)\n",
      "('Blind ROC:', 0.83686875029004937)\n",
      "('Fold:', 2)\n",
      "('Blind Log Loss:', 0.13245139556826477)\n",
      "('Blind ROC:', 0.84410045317598592)\n",
      "('Fold:', 3)\n",
      "('Blind Log Loss:', 0.1345356228185485)\n",
      "('Blind ROC:', 0.83684071858358278)\n",
      "('Fold:', 4)\n",
      "('Blind Log Loss:', 0.13525911847790589)\n",
      "('Blind ROC:', 0.83814236524282615)\n",
      "('Fold:', 5)\n",
      "('Blind Log Loss:', 0.12882389261098043)\n",
      "('Blind ROC:', 0.86450952652460566)\n",
      "('Fold:', 6)\n",
      "('Blind Log Loss:', 0.13735668621884103)\n",
      "('Blind ROC:', 0.82506014513098602)\n",
      "('Fold:', 7)\n",
      "('Blind Log Loss:', 0.12995496975413948)\n",
      "('Blind ROC:', 0.85607464685354628)\n",
      "('Fold:', 8)\n",
      "('Blind Log Loss:', 0.1323971077896593)\n",
      "('Blind ROC:', 0.84381842669953888)\n",
      "('Fold:', 9)\n",
      "('Blind Log Loss:', 0.13572292370713612)\n",
      "('Blind ROC:', 0.83336826005570019)\n",
      "0.841868948492\n",
      "Change num_rounds\n",
      "('Fold:', 0)\n",
      "('Blind Log Loss:', 0.13439950636035833)\n",
      "('Blind ROC:', 0.84241085362313695)\n",
      "('Fold:', 1)\n",
      "('Blind Log Loss:', 0.13226779775058453)\n",
      "('Blind ROC:', 0.84456495330547032)\n",
      "('Fold:', 2)\n",
      "('Blind Log Loss:', 0.13862182857937386)\n",
      "('Blind ROC:', 0.81896690982576004)\n",
      "('Fold:', 3)\n",
      "('Blind Log Loss:', 0.1312748589968861)\n",
      "('Blind ROC:', 0.85021894329316383)\n",
      "('Fold:', 4)\n",
      "('Blind Log Loss:', 0.13020851008516057)\n",
      "('Blind ROC:', 0.85562893355072189)\n",
      "('Fold:', 5)\n",
      "('Blind Log Loss:', 0.13616718945768913)\n",
      "('Blind ROC:', 0.83580959418930001)\n",
      "('Fold:', 6)\n",
      "('Blind Log Loss:', 0.13828478943694922)\n",
      "('Blind ROC:', 0.82535068922884536)\n",
      "('Fold:', 7)\n",
      "('Blind Log Loss:', 0.13060132501767793)\n",
      "('Blind ROC:', 0.85541096859712007)\n",
      "('Fold:', 8)\n",
      "('Blind Log Loss:', 0.1339540791087864)\n",
      "('Blind ROC:', 0.83505227594393461)\n",
      "('Fold:', 9)\n",
      "('Blind Log Loss:', 0.12993131307454983)\n",
      "('Blind ROC:', 0.85603981189791345)\n",
      "0.841945393346\n",
      "Change num_rounds\n",
      "('Fold:', 0)\n",
      "('Blind Log Loss:', 0.13879595696305991)\n",
      "('Blind ROC:', 0.82082253894850632)\n",
      "('Fold:', 1)\n",
      "('Blind Log Loss:', 0.13271833713240891)\n",
      "('Blind ROC:', 0.84526766889515537)\n",
      "('Fold:', 2)\n",
      "('Blind Log Loss:', 0.13483978596544008)\n",
      "('Blind ROC:', 0.83973478352075737)\n",
      "('Fold:', 3)\n",
      "('Blind Log Loss:', 0.13155682900023674)\n",
      "('Blind ROC:', 0.85239335985012743)\n",
      "('Fold:', 4)\n",
      "('Blind Log Loss:', 0.13570500963093221)\n",
      "('Blind ROC:', 0.83264000152893991)\n",
      "('Fold:', 5)\n",
      "('Blind Log Loss:', 0.13147128359090599)\n",
      "('Blind ROC:', 0.85079479850982953)\n",
      "('Fold:', 6)\n",
      "('Blind Log Loss:', 0.14006375998338344)\n",
      "('Blind ROC:', 0.81233695288635199)\n",
      "('Fold:', 7)\n",
      "('Blind Log Loss:', 0.129003418825026)\n",
      "('Blind ROC:', 0.85940486921875259)\n",
      "('Fold:', 8)\n",
      "('Blind Log Loss:', 0.13232368902792344)\n",
      "('Blind ROC:', 0.84960850111856834)\n",
      "('Fold:', 9)\n",
      "('Blind Log Loss:', 0.13233728957061486)\n",
      "('Blind ROC:', 0.84438843993973434)\n",
      "0.840739191442\n",
      "Change num_rounds\n",
      "('Fold:', 0)\n",
      "('Blind Log Loss:', 0.13359851288000044)\n",
      "('Blind ROC:', 0.84473852792344706)\n",
      "('Fold:', 1)\n",
      "('Blind Log Loss:', 0.13068531780137371)\n",
      "('Blind ROC:', 0.85366817992794952)\n",
      "('Fold:', 2)\n",
      "('Blind Log Loss:', 0.13473461233602552)\n",
      "('Blind ROC:', 0.8389825996620861)\n",
      "('Fold:', 3)\n",
      "('Blind Log Loss:', 0.13417785904024523)\n",
      "('Blind ROC:', 0.83842562867417703)\n",
      "('Fold:', 4)\n",
      "('Blind Log Loss:', 0.13326992452071973)\n",
      "('Blind ROC:', 0.84186142070375825)\n",
      "('Fold:', 5)\n",
      "('Blind Log Loss:', 0.13492227207599278)\n",
      "('Blind ROC:', 0.8401106479292646)\n",
      "('Fold:', 6)\n",
      "('Blind Log Loss:', 0.13508078502062332)\n",
      "('Blind ROC:', 0.83343040888678144)\n",
      "('Fold:', 7)\n",
      "('Blind Log Loss:', 0.13259917186466624)\n",
      "('Blind ROC:', 0.84874506336682587)\n",
      "('Fold:', 8)\n",
      "('Blind Log Loss:', 0.13599448560318586)\n",
      "('Blind ROC:', 0.82681504816691787)\n",
      "('Fold:', 9)\n",
      "('Blind Log Loss:', 0.13115120887658449)\n",
      "('Blind ROC:', 0.84958978222161352)\n",
      "0.841636730746\n",
      "Change num_rounds\n",
      "('Fold:', 0)\n",
      "('Blind Log Loss:', 0.13467273192082591)\n",
      "('Blind ROC:', 0.83320320924226832)\n",
      "('Fold:', 1)\n",
      "('Blind Log Loss:', 0.13257167353000499)\n",
      "('Blind ROC:', 0.84654820824586352)\n",
      "('Fold:', 2)\n",
      "('Blind Log Loss:', 0.13094000068286879)\n",
      "('Blind ROC:', 0.85494432337808357)\n",
      "('Fold:', 3)\n",
      "('Blind Log Loss:', 0.13541797873135525)\n",
      "('Blind ROC:', 0.83626782113768594)\n",
      "('Fold:', 4)\n",
      "('Blind Log Loss:', 0.13273292229478012)\n",
      "('Blind ROC:', 0.84703569938309986)\n",
      "('Fold:', 5)\n",
      "('Blind Log Loss:', 0.13201827670308663)\n",
      "('Blind ROC:', 0.84891661407143515)\n",
      "('Fold:', 6)\n",
      "('Blind Log Loss:', 0.13679407264808693)\n",
      "('Blind ROC:', 0.82114906209088911)\n",
      "('Fold:', 7)\n",
      "('Blind Log Loss:', 0.12981320822146403)\n",
      "('Blind ROC:', 0.85970041877483672)\n",
      "('Fold:', 8)\n",
      "('Blind Log Loss:', 0.13574820844817209)\n",
      "('Blind ROC:', 0.83430374834497556)\n",
      "('Fold:', 9)\n",
      "('Blind Log Loss:', 0.13480289915681398)\n",
      "('Blind ROC:', 0.83700086746107838)\n",
      "0.841906997213\n",
      "Change num_rounds\n",
      "('Fold:', 0)\n",
      "('Blind Log Loss:', 0.13555967526616744)\n",
      "('Blind ROC:', 0.8390085181231921)\n",
      "('Fold:', 1)\n",
      "('Blind Log Loss:', 0.13256738923738587)\n",
      "('Blind ROC:', 0.84980449537786495)\n",
      "('Fold:', 2)\n",
      "('Blind Log Loss:', 0.13690615572881001)\n",
      "('Blind ROC:', 0.8271890575222709)\n",
      "('Fold:', 3)\n",
      "('Blind Log Loss:', 0.13501852347494514)\n",
      "('Blind ROC:', 0.83338535976275951)\n",
      "('Fold:', 4)\n",
      "('Blind Log Loss:', 0.13129671771202486)\n",
      "('Blind ROC:', 0.85101799644248433)\n",
      "('Fold:', 5)\n",
      "('Blind Log Loss:', 0.13216545164631177)\n",
      "('Blind ROC:', 0.84618386140159196)\n",
      "('Fold:', 6)\n",
      "('Blind Log Loss:', 0.13207390690180729)\n",
      "('Blind ROC:', 0.84800744084117174)\n",
      "('Fold:', 7)\n",
      "('Blind Log Loss:', 0.13533777568288824)\n",
      "('Blind ROC:', 0.83589946491651579)\n",
      "('Fold:', 8)\n",
      "('Blind Log Loss:', 0.13381559586060784)\n",
      "('Blind ROC:', 0.84024631329041677)\n",
      "('Fold:', 9)\n",
      "('Blind Log Loss:', 0.13065393359601338)\n",
      "('Blind ROC:', 0.85028991462356762)\n",
      "0.84210324223\n",
      "('Average Log Loss:', 1.3649573717516241)\n",
      "('Average ROC:', 0.50049867021276595)\n",
      "Finish\n"
     ]
    }
   ],
   "source": [
    "%run xgb_kaggle_best.py  #more variables"
   ]
  },
  {
   "cell_type": "code",
   "execution_count": 14,
   "metadata": {
    "collapsed": false
   },
   "outputs": [
    {
     "name": "stdout",
     "output_type": "stream",
     "text": [
      "0.84210324223\n",
      "{'subsample': 0.6815, 'eta': 0.0227048, 'colsample_bytree': 0.702, 'silent': 1, 'eval_metric': 'auc', 'objective': 'binary:logistic', 'max_depth': 6, 'nthread': 24}\n"
     ]
    }
   ],
   "source": [
    "print np.mean(np.array(auc_list))\n",
    "print params"
   ]
  },
  {
   "cell_type": "code",
   "execution_count": 21,
   "metadata": {
    "collapsed": false,
    "scrolled": false
   },
   "outputs": [
    {
     "name": "stdout",
     "output_type": "stream",
     "text": [
      "Started!\n",
      "Change num_rounds\n",
      "('Fold:', 0)\n",
      "('Blind Log Loss:', 0.13239420842363775)\n",
      "('Blind ROC:', 0.85063779003795437)\n",
      "('Fold:', 1)\n",
      "('Blind Log Loss:', 0.13454229056064196)\n",
      "('Blind ROC:', 0.83601179670431169)\n",
      "('Fold:', 2)\n",
      "('Blind Log Loss:', 0.13540504433005662)\n",
      "('Blind ROC:', 0.83262407507095237)\n",
      "('Fold:', 3)\n",
      "('Blind Log Loss:', 0.13304559301049712)\n",
      "('Blind ROC:', 0.84892434977960063)\n",
      "('Fold:', 4)\n",
      "('Blind Log Loss:', 0.13237047986409456)\n",
      "('Blind ROC:', 0.84620957125520047)\n",
      "('Fold:', 5)\n",
      "('Blind Log Loss:', 0.13110715609272441)\n",
      "('Blind ROC:', 0.85327818835175262)\n",
      "('Fold:', 6)\n",
      "('Blind Log Loss:', 0.13356537358247658)\n",
      "('Blind ROC:', 0.84299743219993073)\n",
      "('Fold:', 7)\n",
      "('Blind Log Loss:', 0.13362896279707528)\n",
      "('Blind ROC:', 0.84030768096665409)\n",
      "('Fold:', 8)\n",
      "('Blind Log Loss:', 0.13631613088122066)\n",
      "('Blind ROC:', 0.8296034789754827)\n",
      "('Fold:', 9)\n",
      "('Blind Log Loss:', 0.13452679797370609)\n",
      "('Blind ROC:', 0.8383808154134138)\n",
      "0.841897517876\n",
      "Change num_rounds\n",
      "('Fold:', 0)\n",
      "('Blind Log Loss:', 0.13150443967287731)\n",
      "('Blind ROC:', 0.85481518284254709)\n",
      "('Fold:', 1)\n",
      "('Blind Log Loss:', 0.13562159355837369)\n",
      "('Blind ROC:', 0.83307854490327593)\n",
      "('Fold:', 2)\n",
      "('Blind Log Loss:', 0.13555613948541656)\n",
      "('Blind ROC:', 0.84181068355902644)\n",
      "('Fold:', 3)\n",
      "('Blind Log Loss:', 0.13284404619870219)\n",
      "('Blind ROC:', 0.84124529430046679)\n",
      "('Fold:', 4)\n",
      "('Blind Log Loss:', 0.13240176845186089)\n",
      "('Blind ROC:', 0.84880785911546275)\n",
      "('Fold:', 5)\n",
      "('Blind Log Loss:', 0.12978536047425976)\n",
      "('Blind ROC:', 0.85820651701560013)\n",
      "('Fold:', 6)\n",
      "('Blind Log Loss:', 0.13467496917018276)\n",
      "('Blind ROC:', 0.82934982282953085)\n",
      "('Fold:', 7)\n",
      "('Blind Log Loss:', 0.1348260221908531)\n",
      "('Blind ROC:', 0.83859331152470351)\n",
      "('Fold:', 8)\n",
      "('Blind Log Loss:', 0.13147726209761071)\n",
      "('Blind ROC:', 0.85281605259553483)\n",
      "('Fold:', 9)\n",
      "('Blind Log Loss:', 0.13807334163245302)\n",
      "('Blind ROC:', 0.82354335022599645)\n",
      "0.842226661891\n",
      "Change num_rounds\n",
      "('Fold:', 0)\n",
      "('Blind Log Loss:', 0.13802421677210377)\n",
      "('Blind ROC:', 0.83072971406368445)\n",
      "('Fold:', 1)\n",
      "('Blind Log Loss:', 0.13317971878859489)\n",
      "('Blind ROC:', 0.84168584404582181)\n",
      "('Fold:', 2)\n",
      "('Blind Log Loss:', 0.13429699811236789)\n",
      "('Blind ROC:', 0.83843154421571509)\n",
      "('Fold:', 3)\n",
      "('Blind Log Loss:', 0.13459131303357885)\n",
      "('Blind ROC:', 0.83951386079638668)\n",
      "('Fold:', 4)\n",
      "('Blind Log Loss:', 0.13361782966815258)\n",
      "('Blind ROC:', 0.84061255887670239)\n",
      "('Fold:', 5)\n",
      "('Blind Log Loss:', 0.13326807300690896)\n",
      "('Blind ROC:', 0.83752009577716779)\n",
      "('Fold:', 6)\n",
      "('Blind Log Loss:', 0.12796176421588104)\n",
      "('Blind ROC:', 0.86351730819197847)\n",
      "('Fold:', 7)\n",
      "('Blind Log Loss:', 0.13529646466161505)\n",
      "('Blind ROC:', 0.83774147354319561)\n",
      "('Fold:', 8)\n",
      "('Blind Log Loss:', 0.13373255276030774)\n",
      "('Blind ROC:', 0.84091768250924526)\n",
      "('Fold:', 9)\n",
      "('Blind Log Loss:', 0.13344149619818504)\n",
      "('Blind ROC:', 0.84199926950646031)\n",
      "0.841266935153\n",
      "Change num_rounds\n",
      "('Fold:', 0)\n",
      "('Blind Log Loss:', 0.13602180369761183)\n",
      "('Blind ROC:', 0.83144152924015713)\n",
      "('Fold:', 1)\n",
      "('Blind Log Loss:', 0.13299442961734603)\n",
      "('Blind ROC:', 0.84716288533337702)\n",
      "('Fold:', 2)\n",
      "('Blind Log Loss:', 0.13685498585602549)\n",
      "('Blind ROC:', 0.82992977342110785)\n",
      "('Fold:', 3)\n",
      "('Blind Log Loss:', 0.13270099472398586)\n",
      "('Blind ROC:', 0.84602414178005925)\n",
      "('Fold:', 4)\n",
      "('Blind Log Loss:', 0.13135629111962302)\n",
      "('Blind ROC:', 0.85213626131404197)\n",
      "('Fold:', 5)\n",
      "('Blind Log Loss:', 0.13509955419965849)\n",
      "('Blind ROC:', 0.83338058182536323)\n",
      "('Fold:', 6)\n",
      "('Blind Log Loss:', 0.12856716427872911)\n",
      "('Blind ROC:', 0.86501826309689522)\n",
      "('Fold:', 7)\n",
      "('Blind Log Loss:', 0.13227193902906495)\n",
      "('Blind ROC:', 0.84826203664814481)\n",
      "('Fold:', 8)\n",
      "('Blind Log Loss:', 0.134126554195175)\n",
      "('Blind ROC:', 0.84121216271743593)\n",
      "('Fold:', 9)\n",
      "('Blind Log Loss:', 0.13619798091014165)\n",
      "('Blind ROC:', 0.82570241519426568)\n",
      "0.842027005057\n",
      "Change num_rounds\n",
      "('Fold:', 0)\n",
      "('Blind Log Loss:', 0.13345151319663751)\n",
      "('Blind ROC:', 0.84407835290199462)\n",
      "('Fold:', 1)\n",
      "('Blind Log Loss:', 0.13293083400508299)\n",
      "('Blind ROC:', 0.8460980061895389)\n",
      "('Fold:', 2)\n",
      "('Blind Log Loss:', 0.13231813386835475)\n",
      "('Blind ROC:', 0.85040937822652973)\n",
      "('Fold:', 3)\n",
      "('Blind Log Loss:', 0.13166982313249062)\n",
      "('Blind ROC:', 0.84829843998068799)\n",
      "('Fold:', 4)\n",
      "('Blind Log Loss:', 0.13423931350776183)\n",
      "('Blind ROC:', 0.83737084211374124)\n",
      "('Fold:', 5)\n",
      "('Blind Log Loss:', 0.1332067550215488)\n",
      "('Blind ROC:', 0.84466379474709008)\n",
      "('Fold:', 6)\n",
      "('Blind Log Loss:', 0.13573557614787171)\n",
      "('Blind ROC:', 0.83693513972736633)\n",
      "('Fold:', 7)\n",
      "('Blind Log Loss:', 0.13474933906899722)\n",
      "('Blind ROC:', 0.83253920980196128)\n",
      "('Fold:', 8)\n",
      "('Blind Log Loss:', 0.1325720668799289)\n",
      "('Blind ROC:', 0.84918413002784998)\n",
      "('Fold:', 9)\n",
      "('Blind Log Loss:', 0.13638333712255177)\n",
      "('Blind ROC:', 0.82421700223713645)\n",
      "0.841379429595\n",
      "('Average Log Loss:', 0.12170015548447943)\n",
      "('Average ROC:', 0.8878955047902356)\n",
      "Finish\n"
     ]
    }
   ],
   "source": [
    "%run xgb_kaggle_best.py  #more variables"
   ]
  },
  {
   "cell_type": "code",
   "execution_count": 22,
   "metadata": {
    "collapsed": false
   },
   "outputs": [
    {
     "name": "stdout",
     "output_type": "stream",
     "text": [
      "0.841379429595\n",
      "{'subsample': 0.6815, 'eta': 0.0227048, 'colsample_bytree': 0.702, 'silent': 1, 'eval_metric': 'auc', 'objective': 'binary:logistic', 'max_depth': 6, 'nthread': 24}\n"
     ]
    }
   ],
   "source": [
    "print np.mean(np.array(auc_list))\n",
    "print params"
   ]
  },
  {
   "cell_type": "code",
   "execution_count": 23,
   "metadata": {
    "collapsed": false
   },
   "outputs": [
    {
     "data": {
      "text/plain": [
       "array([ 0.03421175,  0.01854844,  0.00398109, ...,  0.00479761,\n",
       "        0.01128828,  0.17974091], dtype=float32)"
      ]
     },
     "execution_count": 23,
     "metadata": {},
     "output_type": "execute_result"
    }
   ],
   "source": [
    "all_train_preds"
   ]
  },
  {
   "cell_type": "code",
   "execution_count": 24,
   "metadata": {
    "collapsed": false
   },
   "outputs": [
    {
     "data": {
      "text/plain": [
       "array([ 0.04554503,  0.05321812,  0.00294894, ...,  0.00485397,\n",
       "        0.05611198,  0.00238977], dtype=float32)"
      ]
     },
     "execution_count": 24,
     "metadata": {},
     "output_type": "execute_result"
    }
   ],
   "source": [
    "all_test_preds"
   ]
  },
  {
   "cell_type": "code",
   "execution_count": 25,
   "metadata": {
    "collapsed": false
   },
   "outputs": [
    {
     "data": {
      "text/plain": [
       "array([ 0.04554503,  0.05321812,  0.00294894, ...,  0.00485397,\n",
       "        0.05611198,  0.00238977], dtype=float32)"
      ]
     },
     "execution_count": 25,
     "metadata": {},
     "output_type": "execute_result"
    }
   ],
   "source": [
    "test_preds"
   ]
  },
  {
   "cell_type": "code",
   "execution_count": 26,
   "metadata": {
    "collapsed": false
   },
   "outputs": [
    {
     "data": {
      "text/plain": [
       "444"
      ]
     },
     "execution_count": 26,
     "metadata": {},
     "output_type": "execute_result"
    }
   ],
   "source": [
    "sum(test_preds==0)"
   ]
  },
  {
   "cell_type": "code",
   "execution_count": null,
   "metadata": {
    "collapsed": true
   },
   "outputs": [],
   "source": []
  }
 ],
 "metadata": {
  "kernelspec": {
   "display_name": "Python 2",
   "language": "python",
   "name": "python2"
  },
  "language_info": {
   "codemirror_mode": {
    "name": "ipython",
    "version": 2
   },
   "file_extension": ".py",
   "mimetype": "text/x-python",
   "name": "python",
   "nbconvert_exporter": "python",
   "pygments_lexer": "ipython2",
   "version": "2.7.6"
  }
 },
 "nbformat": 4,
 "nbformat_minor": 0
}
