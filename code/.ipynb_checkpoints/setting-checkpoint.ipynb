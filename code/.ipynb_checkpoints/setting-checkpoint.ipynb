{
 "cells": [
  {
   "cell_type": "code",
   "execution_count": 1,
   "metadata": {
    "collapsed": true
   },
   "outputs": [],
   "source": [
    "import gc\n",
    "import xgboost as xgb\n",
    "import numpy as np\n",
    "import pandas as pd\n",
    "from scipy.sparse import csr_matrix\n",
    "from sklearn.metrics import log_loss, roc_auc_score\n",
    "from sklearn.cross_validation import StratifiedKFold\n",
    "from sklearn.preprocessing import normalize\n",
    "from sklearn.decomposition import PCA"
   ]
  },
  {
   "cell_type": "code",
   "execution_count": 2,
   "metadata": {
    "collapsed": false
   },
   "outputs": [
    {
     "name": "stdout",
     "output_type": "stream",
     "text": [
      "Started!\n"
     ]
    }
   ],
   "source": [
    "print('Started!')\n",
    "train = pd.read_csv('../input/train.csv')\n",
    "test = pd.read_csv('../input/test.csv')\n",
    "features = train.columns[1:-1]\n",
    "train.insert(1, 'SumZeros', (train[features] == 0).astype(int).sum(axis=1))\n",
    "test.insert(1, 'SumZeros', (test[features] == 0).astype(int).sum(axis=1))\n",
    "\n",
    "train = train.replace(-999999,2)\n",
    "test = test.replace(-999999,2)\n",
    "\n",
    "remove = []\n",
    "c = train.columns\n",
    "for i in range(len(c)-1):\n",
    "    v = train[c[i]].values\n",
    "    for j in range(i+1, len(c)):\n",
    "        if np.array_equal(v, train[c[j]].values):\n",
    "            remove.append(c[j])\n",
    "\n",
    "train.drop(remove, axis=1, inplace=True)\n",
    "test.drop(remove, axis=1, inplace=True)\n",
    "\n",
    "remove = []\n",
    "for col in train.columns:\n",
    "    if train[col].std() == 0:\n",
    "        remove.append(col)\n",
    "\n",
    "train.drop(remove, axis=1, inplace=True)\n",
    "test.drop(remove, axis=1, inplace=True)\n",
    "features = train.columns[1:-1]\n",
    "\n",
    "tokeep = ['ind_var41_0',  # 0.0052877138413685845\n",
    "          'imp_op_var41_ult1',  # 0.0052877138413685845\n",
    "          'num_var8_0',  # 0.005598755832037325\n",
    "          'imp_op_var41_efect_ult3',  # 0.007153965785381027\n",
    "          'num_op_var41_ult3',  # 0.007153965785381027\n",
    "          'num_var22_hace3',  # 0.008087091757387248\n",
    "          'num_var4',  # 0.008087091757387248\n",
    "          'imp_op_var39_comer_ult1',  # 0.008398133748055987\n",
    "          'num_var45_ult3',  # 0.008709175738724729\n",
    "          'ind_var5',  # 0.009953343701399688\n",
    "          'imp_op_var39_efect_ult3',  # 0.009953343701399688\n",
    "          'num_meses_var5_ult3',  # 0.009953343701399688\n",
    "          'saldo_var42',  # 0.01181959564541213\n",
    "          'imp_op_var39_efect_ult1',  # 0.013374805598755831\n",
    "          'num_var45_hace2',  # 0.014618973561430793\n",
    "          'num_var22_ult1',  # 0.017107309486780714\n",
    "          'saldo_medio_var5_ult1',  # 0.017418351477449457\n",
    "          'saldo_var5',  # 0.0208398133748056\n",
    "          'ind_var8_0',  # 0.021150855365474338\n",
    "          'ind_var5_0',  # 0.02177293934681182\n",
    "          'num_meses_var39_vig_ult3',  # 0.024572317262830483\n",
    "          'saldo_medio_var5_ult3',  # 0.024883359253499222\n",
    "          'num_var45_hace3',  # 0.026749611197511663\n",
    "          'num_var22_ult3',  # 0.03452566096423017\n",
    "          'saldo_medio_var5_hace3',  # 0.04074650077760498\n",
    "          'saldo_medio_var5_hace2',  # 0.04292379471228616\n",
    "          'SumZeros',  # 0.04696734059097978\n",
    "          'saldo_var30',  # 0.09611197511664074\n",
    "          'var38',  # 0.1390357698289269\n",
    "          'var15']  # 0.20964230171073095\n",
    "features = train.columns[1:-1]\n",
    "todrop = list(set(tokeep).difference(set(features)))\n",
    "train.drop(todrop, inplace=True, axis=1)\n",
    "test.drop(todrop, inplace=True, axis=1)\n",
    "features = train.columns[1:-1]\n",
    "split = 10"
   ]
  },
  {
   "cell_type": "code",
   "execution_count": 29,
   "metadata": {
    "collapsed": false,
    "scrolled": false
   },
   "outputs": [
    {
     "name": "stdout",
     "output_type": "stream",
     "text": [
      "220.0\n",
      "7248     216\n",
      "12348    188\n",
      "75657    204\n",
      "Name: SumZeros, dtype: int64\n",
      "-128.37\n",
      "15411    -385.47\n",
      "15454    -358.17\n",
      "30764   -1573.23\n",
      "62576    -198.27\n",
      "66877    -250.68\n",
      "Name: saldo_medio_var5_hace2, dtype: float64\n",
      "-8.04\n",
      "25435   -32.85\n",
      "31165   -11.70\n",
      "Name: saldo_medio_var5_hace3, dtype: float64\n",
      "-922.38\n",
      "30764   -1605.15\n",
      "66877   -1121.25\n",
      "Name: saldo_medio_var5_ult1, dtype: float64\n",
      "-476.07\n",
      "30764   -1036.08\n",
      "66877    -685.98\n",
      "Name: saldo_medio_var5_ult3, dtype: float64\n",
      "-3401.34\n",
      "61041   -3925.92\n",
      "Name: saldo_medio_var8_ult1, dtype: float64\n",
      "0.0\n",
      "56562   -0.06\n",
      "70058   -0.03\n",
      "Name: saldo_medio_var17_hace3, dtype: float64\n",
      "0.0\n",
      "12690   -0.6\n",
      "Name: saldo_medio_var33_ult1, dtype: float64\n",
      "0.0\n",
      "12690   -0.6\n",
      "Name: saldo_medio_var33_ult3, dtype: float64\n",
      "5163.75\n",
      "1796     1202.73\n",
      "62297    3796.86\n",
      "Name: var38, dtype: float64\n"
     ]
    }
   ],
   "source": [
    "col_max = np.max(train, axis=0)\n",
    "col_min = np.min(train, axis=0)\n",
    "\n",
    "for col in test.columns:\n",
    "    ind_max = np.where(test[col] > col_max[col])\n",
    "    ind_min = np.where(test[col] < col_min[col])\n",
    "    if len(ind_max[0]) > 0:\n",
    "        test.ix[ind_max[0], col] = col_max[col]\n",
    "    if len(ind_min[0]) > 0:\n",
    "        test.ix[ind_min[0], col] = col_min[col]\n",
    "        "
   ]
  },
  {
   "cell_type": "code",
   "execution_count": 32,
   "metadata": {
    "collapsed": false
   },
   "outputs": [],
   "source": [
    "tc = test\n",
    "nv = tc.num_var33+tc.saldo_medio_var33_ult3+tc.saldo_medio_var44_hace2+tc.saldo_medio_var44_hace3+tc.saldo_medio_var33_ult1+tc.saldo_medio_var44_ult1"
   ]
  },
  {
   "cell_type": "code",
   "execution_count": 35,
   "metadata": {
    "collapsed": false
   },
   "outputs": [
    {
     "data": {
      "text/plain": [
       "array([    6,   166,   253,   257,   988,  1412,  1464,  1722,  1816,\n",
       "        1913,  2043,  3310,  3898,  3936,  4613,  4829,  4899,  5235,\n",
       "        5423,  6291,  6796,  6899,  6900,  7248,  7285,  7922,  8279,\n",
       "        8316,  8443,  8540,  8599,  8703,  8906,  9360,  9459,  9962,\n",
       "       11154, 11669, 12300, 12348, 12487, 12570, 12690, 12811, 13013,\n",
       "       13164, 13791, 15298, 15477, 15523, 15846, 16492, 17952, 18447,\n",
       "       18833, 19018, 19196, 19715, 19936, 20015, 20030, 20506, 20773,\n",
       "       20963, 20986, 20994, 21227, 21521, 21576, 21706, 22673, 22753,\n",
       "       23006, 23313, 24560, 24752, 24789, 24998, 25010, 25129, 25331,\n",
       "       25958, 26134, 26177, 26623, 27037, 27102, 27388, 27449, 27569,\n",
       "       27945, 28749, 29309, 29914, 30246, 30610, 30618, 30730, 30873,\n",
       "       31351, 31570, 32209, 32678, 32787, 32821, 33122, 33775, 34592,\n",
       "       36140, 36195, 36848, 37726, 38362, 38569, 38674, 38810, 38917,\n",
       "       39011, 39213, 39585, 39882, 40401, 41409, 41624, 42617, 42715,\n",
       "       42907, 43230, 43944, 44223, 44508, 44972, 45284, 45325, 45431,\n",
       "       45599, 45700, 45882, 46087, 46229, 46660, 46979, 47001, 47390,\n",
       "       47721, 49034, 49426, 49530, 49657, 50644, 50988, 51911, 52224,\n",
       "       52485, 52617, 52818, 53088, 53393, 53638, 54810, 54977, 55271,\n",
       "       55321, 55406, 55859, 57131, 57431, 57651, 57743, 57835, 58205,\n",
       "       59229, 59938, 60645, 61120, 61153, 61205, 61211, 61576, 61712,\n",
       "       62520, 62858, 63239, 63358, 64056, 64841, 65424, 66539, 67017,\n",
       "       67548, 67586, 67882, 68002, 68296, 68312, 68991, 69091, 69122,\n",
       "       69132, 69251, 72046, 72282, 72782, 74913, 74942, 75009, 75104,\n",
       "       75125, 75657])"
      ]
     },
     "execution_count": 35,
     "metadata": {},
     "output_type": "execute_result"
    }
   ],
   "source": [
    "np.where(nv>0)[0]"
   ]
  },
  {
   "cell_type": "raw",
   "metadata": {},
   "source": [
    "\n",
    "  preds[tc['var15'] < 23] = max(0, rnorm(1, sd=0.00001)) \n",
    "  preds[tc['saldo_medio_var5_hace2'] > 160000] = max(0, rnorm(1, sd=0.00001)) \n",
    "  preds[tc['saldo_var33'] > 0] = max(0, rnorm(1, sd=0.00001)) \n",
    "  preds[tc['var38'] > 3988596] = max(0, rnorm(1, sd=0.00001)) \n",
    "  preds[tc['var21'] > 7500] = max(0, rnorm(1, sd=0.00001)) \n",
    "  preds[tc['num_var30'] > 9] = max(0, rnorm(1, sd=0.00001)) \n",
    "  preds[tc['num_var13_0'] > 6] = max(0, rnorm(1, sd=0.00001)) \n",
    "  preds[tc['num_var33_0'] > 0] = max(0, rnorm(1, sd=0.00001)) \n",
    "  preds[tc['imp_ent_var16_ult1'] > 51003] = max(0, rnorm(1, sd=0.00001)) \n",
    "  preds[tc['imp_op_var39_comer_ult3'] > 13184] = max(0, rnorm(1, sd=0.00001)) \n",
    "  preds[tc['saldo_medio_var5_ult3'] > 108251] = max(0, rnorm(1, sd=0.00001)) \n",
    "  preds[tc['num_var37_0'] > 45] = max(0, rnorm(1, sd=0.00001)) \n",
    "  preds[tc['saldo_var5'] > 137615] = max(0, rnorm(1, sd=0.00001)) \n",
    "  preds[tc['saldo_var8'] > 60099] = max(0, rnorm(1, sd=0.00001)) \n",
    "  preds[(tc['var15']+tc['num_var45_hace3']+tc['num_var45_ult3']+tc['var36']) <= 24] = max(0, rnorm(1, sd=0.00001)) \n",
    "  preds[tc['saldo_var14'] > 19053.78] = max(0, rnorm(1, sd=0.00001)) \n",
    "  preds[tc['saldo_var17'] > 288188.97] = max(0, rnorm(1, sd=0.00001)) \n",
    "  preds[tc['saldo_var26'] > 10381.29] = max(0, rnorm(1, sd=0.00001)) "
   ]
  }
 ],
 "metadata": {
  "kernelspec": {
   "display_name": "Python 2",
   "language": "python",
   "name": "python2"
  },
  "language_info": {
   "codemirror_mode": {
    "name": "ipython",
    "version": 2
   },
   "file_extension": ".py",
   "mimetype": "text/x-python",
   "name": "python",
   "nbconvert_exporter": "python",
   "pygments_lexer": "ipython2",
   "version": "2.7.6"
  }
 },
 "nbformat": 4,
 "nbformat_minor": 0
}
